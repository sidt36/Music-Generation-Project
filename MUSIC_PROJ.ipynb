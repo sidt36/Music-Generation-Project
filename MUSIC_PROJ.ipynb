{
  "nbformat": 4,
  "nbformat_minor": 0,
  "metadata": {
    "colab": {
      "name": "MUSIC_PROJ",
      "provenance": [],
      "collapsed_sections": []
    },
    "kernelspec": {
      "name": "python3",
      "display_name": "Python 3"
    },
    "accelerator": "GPU"
  },
  "cells": [
    {
      "cell_type": "code",
      "metadata": {
        "id": "8WCzmGIV_def",
        "colab_type": "code",
        "outputId": "00272df2-637d-44c4-ca7f-b5069b0e0268",
        "colab": {
          "base_uri": "https://localhost:8080/",
          "height": 54
        }
      },
      "source": [
        "!pip install music21==5.7.2"
      ],
      "execution_count": 0,
      "outputs": [
        {
          "output_type": "stream",
          "text": [
            "Requirement already satisfied: music21==5.7.2 in /usr/local/lib/python3.6/dist-packages (5.7.2)\n"
          ],
          "name": "stdout"
        }
      ]
    },
    {
      "cell_type": "code",
      "metadata": {
        "id": "szeO2vPmCxcM",
        "colab_type": "code",
        "outputId": "7ef0b968-2cf5-4259-9e15-4e1f95dacf74",
        "colab": {
          "base_uri": "https://localhost:8080/",
          "height": 34
        }
      },
      "source": [
        "import music21\n",
        "music21.__version__"
      ],
      "execution_count": 0,
      "outputs": [
        {
          "output_type": "execute_result",
          "data": {
            "text/plain": [
              "'5.7.2'"
            ]
          },
          "metadata": {
            "tags": []
          },
          "execution_count": 2
        }
      ]
    },
    {
      "cell_type": "code",
      "metadata": {
        "id": "0a3a2skbC6lj",
        "colab_type": "code",
        "outputId": "e5a3914b-1880-48ec-d3a3-4567e3333389",
        "colab": {
          "base_uri": "https://localhost:8080/",
          "height": 34
        }
      },
      "source": [
        "import os\n",
        "import json\n",
        "import numpy as np\n",
        "from keras.models import Sequential\n",
        "from keras.layers import LSTM, Dropout, TimeDistributed, Dense, Activation, Embedding\n",
        "from keras.callbacks import ModelCheckpoint\n",
        "from keras.utils import *\n",
        "from music21 import *\n",
        "import matplotlib.pyplot as plt\n",
        "import matplotlib.image as mpimg"
      ],
      "execution_count": 0,
      "outputs": [
        {
          "output_type": "stream",
          "text": [
            "Using TensorFlow backend.\n"
          ],
          "name": "stderr"
        }
      ]
    },
    {
      "cell_type": "code",
      "metadata": {
        "id": "apopkjdCDAZ0",
        "colab_type": "code",
        "colab": {}
      },
      "source": [
        "data_directory = './drive/My Drive/'\n",
        "data_file = 'Data_Tunes.txt'\n",
        "charIndex_json = 'char2index.json'\n",
        "BATCH_SIZE = 16\n",
        "SEQ_LENGTH = 64"
      ],
      "execution_count": 0,
      "outputs": []
    },
    {
      "cell_type": "code",
      "metadata": {
        "id": "-tpnZNLNDF0w",
        "colab_type": "code",
        "outputId": "34485b48-01f8-482c-921a-66b16344130f",
        "colab": {
          "base_uri": "https://localhost:8080/",
          "height": 54
        }
      },
      "source": [
        "def preprocess(data):\n",
        "\n",
        "  #The data has some unnecessary data before each song and has a few lines seperating each song, the 'Z' label is used used to indicate the begining of each song.\n",
        "  list1 = list(data)\n",
        "  list2 = ['start_label']\n",
        "  #This indicates the start of each song\n",
        "  ignore_chars = ['X', 'T', 'M', 'K', 'S', 'P']\n",
        "  i=0\n",
        "  while(i<len(list1)):\n",
        "    if(((list1[i] in ignore_chars) and (list1[i+1]==':')) or list1[i]=='%'):\n",
        "      del list2[-1]\n",
        "      while(list1[i] != '\\n'):\n",
        "        i = i+1\n",
        "    if(list1[i] =='\\n'):\n",
        "      list2.append(\"start_label\")\n",
        "    else:\n",
        "\n",
        "      list2.append(list1[i])\n",
        "    \n",
        "    i = i+1\n",
        "  i = 0\n",
        "  # Z -Character\n",
        "  preprocess_data = []\n",
        "  while (i<len(list2)):\n",
        "    if (list2[i]=='start_label' ):\n",
        "      preprocess_data.append('Z')\n",
        "      i = i + 1\n",
        "    else:\n",
        "      preprocess_data.append(list2[i])\n",
        "      i = i + 1\n",
        "#Data seperated and reruened as a list after being read from the file\n",
        "  return preprocess_data\n",
        "\n",
        "file = open(os.path.join(data_directory, data_file), mode = 'r')\n",
        "data = file.read()\n",
        "file.close()\n",
        "preprocess_data = preprocess(data)\n",
        "print(preprocess_data)"
      ],
      "execution_count": 0,
      "outputs": [
        {
          "output_type": "stream",
          "text": [
            "['Z', '{', '\"', ' ', '\"', ':', ' ', '0', ',', ' ', '\"', '!', '\"', ':', ' ', '1', ',', ' ', '\"', '\\\\', '\"', '\"', ':', ' ', '2', ',', ' ', '\"', '#', '\"', ':', ' ', '3', ',', ' ', '\"', \"'\", '\"', ':', ' ', '4', ',', ' ', '\"', '(', '\"', ':', ' ', '5', ',', ' ', '\"', ')', '\"', ':', ' ', '6', ',', ' ', '\"', '+', '\"', ':', ' ', '7', ',', ' ', '\"', ',', '\"', ':', ' ', '8', ',', ' ', '\"', '-', '\"', ':', ' ', '9', ',', ' ', '\"', '/', '\"', ':', ' ', '1', '0', ',', ' ', '\"', '0', '\"', ':', ' ', '1', '1', ',', ' ', '\"', '1', '\"', ':', ' ', '1', '2', ',', ' ', '\"', '2', '\"', ':', ' ', '1', '3', ',', ' ', '\"', '3', '\"', ':', ' ', '1', '4', ',', ' ', '\"', '4', '\"', ':', ' ', '1', '5', ',', ' ', '\"', '5', '\"', ':', ' ', '1', '6', ',', ' ', '\"', '6', '\"', ':', ' ', '1', '7', ',', ' ', '\"', '7', '\"', ':', ' ', '1', '8', ',', ' ', '\"', '8', '\"', ':', ' ', '1', '9', ',', ' ', '\"', '9', '\"', ':', ' ', '2', '0', ',', ' ', '\"', ':', '\"', ':', ' ', '2', '1', ',', ' ', '\"', '=', '\"', ':', ' ', '2', '2', ',', ' ', '\"', 'A', '\"', ':', ' ', '2', '3', ',', ' ', '\"', 'B', '\"', ':', ' ', '2', '4', ',', ' ', '\"', 'C', '\"', ':', ' ', '2', '5', ',', ' ', '\"', 'D', '\"', ':', ' ', '2', '6', ',', ' ', '\"', 'E', '\"', ':', ' ', '2', '7', ',', ' ', '\"', 'F', '\"', ':', ' ', '2', '8', ',', ' ', '\"', 'G', '\"', ':', ' ', '2', '9', ',', ' ', '\"', 'H', '\"', ':', ' ', '3', '0', ',', ' ', '\"', 'L', '\"', ':', ' ', '3', '1', ',', ' ', '\"', 'R', '\"', ':', ' ', '3', '2', ',', ' ', '\"', 'V', '\"', ':', ' ', '3', '3', ',', ' ', '\"', 'Z', '\"', ':', ' ', '3', '4', ',', ' ', '\"', '[', '\"', ':', ' ', '3', '5', ',', ' ', '\"', '\\\\', '\\\\', '\"', ':', ' ', '3', '6', ',', ' ', '\"', ']', '\"', ':', ' ', '3', '7', ',', ' ', '\"', '^', '\"', ':', ' ', '3', '8', ',', ' ', '\"', '_', '\"', ':', ' ', '3', '9', ',', ' ', '\"', 'a', '\"', ':', ' ', '4', '0', ',', ' ', '\"', 'b', '\"', ':', ' ', '4', '1', ',', ' ', '\"', 'c', '\"', ':', ' ', '4', '2', ',', ' ', '\"', 'd', '\"', ':', ' ', '4', '3', ',', ' ', '\"', 'e', '\"', ':', ' ', '4', '4', ',', ' ', '\"', 'f', '\"', ':', ' ', '4', '5', ',', ' ', '\"', 'g', '\"', ':', ' ', '4', '6', ',', ' ', '\"', 'i', '\"', ':', ' ', '4', '7', ',', ' ', '\"', 'l', '\"', ':', ' ', '4', '8', ',', ' ', '\"', 'm', '\"', ':', ' ', '4', '9', ',', ' ', '\"', 'n', '\"', ':', ' ', '5', '0', ',', ' ', '\"', 'o', '\"', ':', ' ', '5', '1', ',', ' ', '\"', 'p', '\"', ':', ' ', '5', '2', ',', ' ', '\"', 'r', '\"', ':', ' ', '5', '3', ',', ' ', '\"', 's', '\"', ':', ' ', '5', '4', ',', ' ', '\"', 't', '\"', ':', ' ', '5', '5', ',', ' ', '\"', 'u', '\"', ':', ' ', '5', '6', ',', ' ', '\"', 'z', '\"', ':', ' ', '5', '7', ',', ' ', '\"', '{', '\"', ':', ' ', '5', '8', ',', ' ', '\"', '|', '\"', ':', ' ', '5', '9', ',', ' ', '\"', '}', '\"', ':', ' ', '6', '0', ',', ' ', '\"', '~', '\"', ':', ' ', '6', '1', '}']\n"
          ],
          "name": "stdout"
        }
      ]
    },
    {
      "cell_type": "code",
      "metadata": {
        "id": "nZgIQN3gZ7tu",
        "colab_type": "code",
        "outputId": "5ef670bf-ac6c-4365-bedc-910d404bbdb6",
        "colab": {
          "base_uri": "https://localhost:8080/",
          "height": 598
        }
      },
      "source": [
        "def read_data(preprocessed_data):\n",
        "  #In this function we create dictionaries to identify notes to indices\n",
        "  char2index = {ch:i for i,ch in enumerate(sorted(list(set(preprocess_data))))}\n",
        "  #writing to file, we need it later!\n",
        "  with open(os.path.join(data_directory,charIndex_json), mode = 'w') as f:\n",
        "    json.dump(char2index,f)\n",
        "  index2char = {i:ch for (ch,i) in char2index.items()}\n",
        "  vocab_size = len(char2index)\n",
        "  all_char_as_index = np.asarray([char2index[x] for x in preprocessed_data ])\n",
        "  return all_char_as_index, vocab_size\n",
        "\n",
        "all_characters_as_indices, num_unique_chars = read_data(preprocess_data)\n",
        "print(read_data(preprocess_data))"
      ],
      "execution_count": 0,
      "outputs": [
        {
          "output_type": "stream",
          "text": [
            "(array([34, 58,  2,  0,  2, 21,  0, 11,  8,  0,  2,  1,  2, 21,  0, 12,  8,\n",
            "        0,  2, 36,  2,  2, 21,  0, 13,  8,  0,  2,  3,  2, 21,  0, 14,  8,\n",
            "        0,  2,  4,  2, 21,  0, 15,  8,  0,  2,  5,  2, 21,  0, 16,  8,  0,\n",
            "        2,  6,  2, 21,  0, 17,  8,  0,  2,  7,  2, 21,  0, 18,  8,  0,  2,\n",
            "        8,  2, 21,  0, 19,  8,  0,  2,  9,  2, 21,  0, 20,  8,  0,  2, 10,\n",
            "        2, 21,  0, 12, 11,  8,  0,  2, 11,  2, 21,  0, 12, 12,  8,  0,  2,\n",
            "       12,  2, 21,  0, 12, 13,  8,  0,  2, 13,  2, 21,  0, 12, 14,  8,  0,\n",
            "        2, 14,  2, 21,  0, 12, 15,  8,  0,  2, 15,  2, 21,  0, 12, 16,  8,\n",
            "        0,  2, 16,  2, 21,  0, 12, 17,  8,  0,  2, 17,  2, 21,  0, 12, 18,\n",
            "        8,  0,  2, 18,  2, 21,  0, 12, 19,  8,  0,  2, 19,  2, 21,  0, 12,\n",
            "       20,  8,  0,  2, 20,  2, 21,  0, 13, 11,  8,  0,  2, 21,  2, 21,  0,\n",
            "       13, 12,  8,  0,  2, 22,  2, 21,  0, 13, 13,  8,  0,  2, 23,  2, 21,\n",
            "        0, 13, 14,  8,  0,  2, 24,  2, 21,  0, 13, 15,  8,  0,  2, 25,  2,\n",
            "       21,  0, 13, 16,  8,  0,  2, 26,  2, 21,  0, 13, 17,  8,  0,  2, 27,\n",
            "        2, 21,  0, 13, 18,  8,  0,  2, 28,  2, 21,  0, 13, 19,  8,  0,  2,\n",
            "       29,  2, 21,  0, 13, 20,  8,  0,  2, 30,  2, 21,  0, 14, 11,  8,  0,\n",
            "        2, 31,  2, 21,  0, 14, 12,  8,  0,  2, 32,  2, 21,  0, 14, 13,  8,\n",
            "        0,  2, 33,  2, 21,  0, 14, 14,  8,  0,  2, 34,  2, 21,  0, 14, 15,\n",
            "        8,  0,  2, 35,  2, 21,  0, 14, 16,  8,  0,  2, 36, 36,  2, 21,  0,\n",
            "       14, 17,  8,  0,  2, 37,  2, 21,  0, 14, 18,  8,  0,  2, 38,  2, 21,\n",
            "        0, 14, 19,  8,  0,  2, 39,  2, 21,  0, 14, 20,  8,  0,  2, 40,  2,\n",
            "       21,  0, 15, 11,  8,  0,  2, 41,  2, 21,  0, 15, 12,  8,  0,  2, 42,\n",
            "        2, 21,  0, 15, 13,  8,  0,  2, 43,  2, 21,  0, 15, 14,  8,  0,  2,\n",
            "       44,  2, 21,  0, 15, 15,  8,  0,  2, 45,  2, 21,  0, 15, 16,  8,  0,\n",
            "        2, 46,  2, 21,  0, 15, 17,  8,  0,  2, 47,  2, 21,  0, 15, 18,  8,\n",
            "        0,  2, 48,  2, 21,  0, 15, 19,  8,  0,  2, 49,  2, 21,  0, 15, 20,\n",
            "        8,  0,  2, 50,  2, 21,  0, 16, 11,  8,  0,  2, 51,  2, 21,  0, 16,\n",
            "       12,  8,  0,  2, 52,  2, 21,  0, 16, 13,  8,  0,  2, 53,  2, 21,  0,\n",
            "       16, 14,  8,  0,  2, 54,  2, 21,  0, 16, 15,  8,  0,  2, 55,  2, 21,\n",
            "        0, 16, 16,  8,  0,  2, 56,  2, 21,  0, 16, 17,  8,  0,  2, 57,  2,\n",
            "       21,  0, 16, 18,  8,  0,  2, 58,  2, 21,  0, 16, 19,  8,  0,  2, 59,\n",
            "        2, 21,  0, 16, 20,  8,  0,  2, 60,  2, 21,  0, 17, 11,  8,  0,  2,\n",
            "       61,  2, 21,  0, 17, 12, 60]), 62)\n"
          ],
          "name": "stdout"
        }
      ]
    },
    {
      "cell_type": "code",
      "metadata": {
        "id": "BdHoyjK2y3Bt",
        "colab_type": "code",
        "colab": {}
      },
      "source": [
        "#Reads the files and gives us what we need later.(We get the dictionaries we need)\n",
        "def return_dict():\n",
        "  read_data(preprocess_data)\n",
        "  with open(os.path.join(data_directory, charIndex_json)) as f:\n",
        "    char_to_index = json.load(f)\n",
        "  index_to_char = {i:ch for ch, i in char_to_index.items()}\n",
        "  num_unique_chars = len(index_to_char)\n",
        "  return char_to_index , index_to_char , num_unique_chars\n"
      ],
      "execution_count": 0,
      "outputs": []
    },
    {
      "cell_type": "code",
      "metadata": {
        "id": "YDgmA_gflZkh",
        "colab_type": "code",
        "colab": {}
      },
      "source": [
        "def data_create(all_char_as_index, vocab_size):\n",
        "  total_len = len(all_char_as_index)\n",
        "  num_examples = total_len//SEQ_LENGTH #// : to ensure we get and integer value ie 4 not 4.0\n",
        "  X = np.zeros((num_examples,SEQ_LENGTH))#This is indexed, gets encoded by tf\n",
        "  Y = np.zeros((num_examples,SEQ_LENGTH,vocab_size ))#This is one hot encoded\n",
        "\n",
        "  for  i in range(num_examples):\n",
        "    for j in range(SEQ_LENGTH):\n",
        "      X[i,j] = all_char_as_index[i*SEQ_LENGTH + j]\n",
        "      #One hot encoding\n",
        "      Y[i,j, all_char_as_index[i*SEQ_LENGTH + j+1]] = 1\n",
        "\n",
        "  return X,Y\n",
        "\n"
      ],
      "execution_count": 0,
      "outputs": []
    },
    {
      "cell_type": "code",
      "metadata": {
        "id": "Np8wHuhTgLD7",
        "colab_type": "code",
        "colab": {}
      },
      "source": [
        "def model_init(seq_length, vocab_size, Emb_dim=512, units=256):\n",
        "  model = Sequential()\n",
        "  #This is the training model\n",
        "  model.add(Embedding(input_dim= vocab_size, output_dim= Emb_dim, input_shape = (seq_length,)))\n",
        "#Each char is passed and trained against the following char\n",
        "#Note on every layer we pass THE WHOLE SEQUENCE not just the last one\n",
        "  model.add(LSTM(units, return_sequences = True))\n",
        "  model.add(Dropout(0.2))\n",
        "\n",
        "  model.add(LSTM(units, return_sequences = True))\n",
        "  model.add(Dropout(0.2))\n",
        "\n",
        "  model.add(LSTM(units, return_sequences = True))\n",
        "  model.add(Dropout(0.2))\n",
        "\n",
        "  model.add(TimeDistributed(Dense(vocab_size,activation='softmax')))\n",
        "\n",
        "    \n",
        "  return model\n"
      ],
      "execution_count": 0,
      "outputs": []
    },
    {
      "cell_type": "code",
      "metadata": {
        "id": "TJr3CsHoruVL",
        "colab_type": "code",
        "colab": {}
      },
      "source": [
        "def make_model(num_unique_chars,Emb_dim = 512,units = 256):\n",
        "  model = Sequential()\n",
        "#This is the sampling model\n",
        "  model.add(Embedding(input_dim= num_unique_chars, output_dim= Emb_dim, batch_input_shape = (1,1)))\n",
        "#stateful ensures the previous y value gets passed as the next x value\n",
        "\n",
        "  model.add(LSTM(units, return_sequences = True, stateful= True))\n",
        "\n",
        "  model.add(Dropout(0.2))\n",
        "\n",
        "  model.add(LSTM(units, return_sequences = True, stateful= True))\n",
        "  model.add(Dropout(0.2))\n",
        "\n",
        "  model.add(LSTM(units, return_sequences = True, stateful = True))\n",
        "  model.add(Dropout(0.2))\n",
        "\n",
        "  model.add(TimeDistributed(Dense(num_unique_chars,activation = 'softmax')))\n",
        "\n",
        "    \n",
        "  return model    "
      ],
      "execution_count": 0,
      "outputs": []
    },
    {
      "cell_type": "code",
      "metadata": {
        "id": "Ln4QLU0xqpDy",
        "colab_type": "code",
        "colab": {}
      },
      "source": [
        "def generate_sequence(gen_seq_length):\n",
        "  char_to_index, index_to_char , num_unique_chars = return_dict()\n",
        "\n",
        "  model = make_model(num_unique_chars)\n",
        "  model.load_weights('./weights.80.hdf5')\n",
        "#Every song begins with 'Z'\n",
        "  sequence_index = [char_to_index['Z']]\n",
        "\n",
        "  for _ in range(gen_seq_length):\n",
        "    #Each char is passed and the following char is obtained\n",
        "    batch = np.zeros((1,1))\n",
        "    batch[0,0] = sequence_index[-1]\n",
        "    # We select the following note based on the probability distribution at random \n",
        "    predicted_probs = model.predict_on_batch(batch).ravel()\n",
        "    sample = np.random.choice(range(num_unique_chars), size = 1, p = predicted_probs)\n",
        "\n",
        "    sequence_index.append(sample[0])\n",
        "\n",
        "  seq = ''.join(index_to_char[c] for c in sequence_index)\n",
        "\n",
        "  seq = 'M:6/8\\n' + str(seq)\n",
        "\n",
        "  return seq"
      ],
      "execution_count": 0,
      "outputs": []
    },
    {
      "cell_type": "code",
      "metadata": {
        "id": "m5A9-8rRrWzv",
        "colab_type": "code",
        "colab": {}
      },
      "source": [
        "#Music 21 stuff\n",
        "def convert_to_midi(abc):\n",
        "  c = converter.subConverters.ConverterABC()\n",
        "  c.registerOutputExtensions = ('midi', )\n",
        "  c.parseData(abc)\n",
        "  s = c.stream\n",
        "  s.write('midi', fp = 'MiniProject.mid')"
      ],
      "execution_count": 0,
      "outputs": []
    },
    {
      "cell_type": "code",
      "metadata": {
        "id": "A2QbWJ7XwN3I",
        "colab_type": "code",
        "colab": {}
      },
      "source": [
        "file = open(os.path.join(data_directory, data_file), mode = 'r')\n",
        "data = file.read()\n",
        "file.close()\n",
        "\n",
        "preprocess_data = preprocess(data)\n",
        "\n",
        "all_characters_as_indices, num_unique_chars = read_data(preprocess_data)\n",
        "\n",
        "X,Y = data_create(all_characters_as_indices, num_unique_chars)"
      ],
      "execution_count": 0,
      "outputs": []
    },
    {
      "cell_type": "code",
      "metadata": {
        "id": "ICJOiUzUwQc4",
        "colab_type": "code",
        "outputId": "fdf36dd7-1fa1-476d-bfd3-4cb3c84f4baa",
        "colab": {
          "base_uri": "https://localhost:8080/",
          "height": 439
        }
      },
      "source": [
        "model = model_init(SEQ_LENGTH, num_unique_chars)\n",
        "model.summary()"
      ],
      "execution_count": 0,
      "outputs": [
        {
          "output_type": "stream",
          "text": [
            "Model: \"sequential_1\"\n",
            "_________________________________________________________________\n",
            "Layer (type)                 Output Shape              Param #   \n",
            "=================================================================\n",
            "embedding_1 (Embedding)      (None, 64, 512)           31744     \n",
            "_________________________________________________________________\n",
            "lstm_1 (LSTM)                (None, 64, 256)           787456    \n",
            "_________________________________________________________________\n",
            "dropout_1 (Dropout)          (None, 64, 256)           0         \n",
            "_________________________________________________________________\n",
            "lstm_2 (LSTM)                (None, 64, 256)           525312    \n",
            "_________________________________________________________________\n",
            "dropout_2 (Dropout)          (None, 64, 256)           0         \n",
            "_________________________________________________________________\n",
            "lstm_3 (LSTM)                (None, 64, 256)           525312    \n",
            "_________________________________________________________________\n",
            "dropout_3 (Dropout)          (None, 64, 256)           0         \n",
            "_________________________________________________________________\n",
            "time_distributed_1 (TimeDist (None, 64, 62)            15934     \n",
            "=================================================================\n",
            "Total params: 1,885,758\n",
            "Trainable params: 1,885,758\n",
            "Non-trainable params: 0\n",
            "_________________________________________________________________\n"
          ],
          "name": "stdout"
        }
      ]
    },
    {
      "cell_type": "code",
      "metadata": {
        "id": "83FDvgqHwUv6",
        "colab_type": "code",
        "colab": {}
      },
      "source": [
        "model.compile(loss = 'categorical_crossentropy', optimizer = 'adam', metrics = ['accuracy'])\n",
        "\n",
        "checkpoint = ModelCheckpoint(filepath='weights.{epoch:02d}.hdf5', monitor = 'loss', save_best_only=True, save_weights_only=True, period = 1)\n",
        "\n",
        "model.fit(X,Y,batch_size = BATCH_SIZE, epochs = 80,callbacks = [checkpoint])\n",
        "\n",
        "music = generate_sequence(192)\n",
        "\n",
        "convert_to_midi(music)"
      ],
      "execution_count": 0,
      "outputs": []
    }
  ]
}